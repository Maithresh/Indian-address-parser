{
 "cells": [
  {
   "cell_type": "code",
   "execution_count": 8,
   "metadata": {},
   "outputs": [],
   "source": [
    "'''\n",
    "This file is used to create the keywords. The below is the list of keywords the parser currently uses. \n",
    "More keywords can be added if the user finds it necessary. \n",
    "\n",
    "'''\n",
    "\n",
    "keywords_head = ['headquarter','address',' contact']\n",
    "#keywords_head = ['headquarter', ' mr ',' shree ',' smt ',' dr ',' dr\\.',' mr\\.',' mrs',' mrs\\.',' ms\\.',' ms ', ' captain', ' prof ', ' prof\\.','capt\\.', 'dean', 'registrar','address',' contact']\n",
    "\n",
    "\n",
    "keywords_add = [ 'campus','vihar','block','bagh','district','dist\\.', 'p\\.o\\.', 'ltd\\.','c/o','division','road','avenue','plaza','building','street','floor','bhawan','level ','sector',' sec ','opposite',\n",
    "               'opp ','near','beside','between','marg','nilayam','lane','park','garden','complex','flr','plot','village','mandal','limited','ltd.','coorperation','tower','apartments','apt ','house','housing','east','west',\n",
    "               'north','south','nagar','office','mansion','chowk','cplx','society','colony','chambers','town','temple','mandir', ' no\\. ']\n",
    "\n",
    "keywords_last = ['pin','fax','zip','phone','mobile','india',\n",
    "                \n",
    "                '[a-zA-Z0-9_.+-]+@[a-zA-Z0-9-]+\\.[a-zA-Z0-9-.]+',\n",
    "                '[a-zA-Z0-9_.+-]+\\[at\\][a-zA-Z0-9-]+\\.[a-zA-Z0-9-.]+',\n",
    "                '[a-zA-Z0-9_.+-]+\\[at\\][a-zA-Z0-9-]+\\[dot\\][a-zA-Z0-9-.]+',\n",
    "                '[a-zA-Z0-9_.+-]+\\(at\\)[a-zA-Z0-9-]+\\.[a-zA-Z0-9-.]+',\n",
    "                '[a-zA-Z0-9_.+-]+ at [a-zA-Z0-9-]+ dot [a-zA-Z0-9-.]+'\n",
    "                '[a-zA-Z0-9_.+-]+\\(at\\)[a-zA-Z0-9-]+\\(dot\\)[a-zA-Z0-9-.]+'\n",
    "                ]\n",
    "\n"
   ]
  },
  {
   "cell_type": "code",
   "execution_count": 9,
   "metadata": {},
   "outputs": [],
   "source": [
    "'''\n",
    "Run this cell to create kewyords files. Running this cell is necessary if the keywords are changed. \n",
    "\n",
    "'''\n",
    "import pickle\n",
    "kw_heads_file = open('keywords_head','wb')\n",
    "pickle.dump(keywords_head,kw_heads_file)\n",
    "kw_heads_file.close()\n",
    "\n",
    "\n",
    "kw_add_file = open('keywords_add','wb')\n",
    "pickle.dump(keywords_add,kw_add_file)\n",
    "kw_heads_file.close()\n",
    "\n",
    "\n",
    "kw_last_file = open('keywords_last','wb')\n",
    "pickle.dump(keywords_last,kw_last_file)\n",
    "kw_last_file.close()\n",
    "\n",
    "\n"
   ]
  },
  {
   "cell_type": "code",
   "execution_count": null,
   "metadata": {},
   "outputs": [],
   "source": []
  },
  {
   "cell_type": "code",
   "execution_count": null,
   "metadata": {},
   "outputs": [],
   "source": []
  }
 ],
 "metadata": {
  "kernelspec": {
   "display_name": "Python 3",
   "language": "python",
   "name": "python3"
  },
  "language_info": {
   "codemirror_mode": {
    "name": "ipython",
    "version": 3
   },
   "file_extension": ".py",
   "mimetype": "text/x-python",
   "name": "python",
   "nbconvert_exporter": "python",
   "pygments_lexer": "ipython3",
   "version": "3.8.5"
  },
  "metadata": {
   "interpreter": {
    "hash": "c6d8e976fdae2f50ed40fb0ac8ee48078c01cceaf300ea205034f3f399f5399a"
   }
  }
 },
 "nbformat": 4,
 "nbformat_minor": 4
}
